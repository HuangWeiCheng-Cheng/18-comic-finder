{
  "nbformat": 4,
  "nbformat_minor": 0,
  "metadata": {
    "anaconda-cloud": {},
    "colab": {
      "provenance": [],
      "include_colab_link": true
    },
    "kernelspec": {
      "display_name": "Python 3",
      "language": "python",
      "name": "python3"
    },
    "language_info": {
      "codemirror_mode": {
        "name": "ipython",
        "version": 3
      },
      "file_extension": ".py",
      "mimetype": "text/x-python",
      "name": "python",
      "nbconvert_exporter": "python",
      "pygments_lexer": "ipython3",
      "version": "3.8.2"
    },
    "name": "_merged"
  },
  "cells": [
    {
      "cell_type": "markdown",
      "metadata": {
        "id": "view-in-github",
        "colab_type": "text"
      },
      "source": [
        "<a href=\"https://colab.research.google.com/github/archue001/18-comic-finder/blob/master/LA_%E7%BF%92%E9%A1%8C%E7%AF%84%E6%9C%AC.ipynb\" target=\"_parent\"><img src=\"https://colab.research.google.com/assets/colab-badge.svg\" alt=\"Open In Colab\"/></a>"
      ]
    },
    {
      "cell_type": "markdown",
      "metadata": {
        "id": "5q8W8z5tumHy"
      },
      "source": [
        "# Python 與 Jupyter Notebook 操作練習 — 作業交卷說明\n",
        "- 學生名字: 林耀鈴 學號: s01234567 班級: 資工1C\n",
        "- 交卷日期: 2023/10/00\n",
        "- 連結: https://t.ly/jZbEA (re: [short url](https://chrome.google.com/webstore/detail/url-shortener/oodfdmglhbbkkcngodjjagblikmoegpa)) ![](http://chart.apis.google.com/chart?cht=qr&chs=80x80&chld=H|0&chl=https://t.ly/jZbEA)"
      ]
    },
    {
      "cell_type": "markdown",
      "metadata": {
        "id": "7j9H8rs9LhvW"
      },
      "source": [
        "## 簡介:\n",
        "- 這個習題是為了讓你練習 Python, Jupyter Notebook  與 Google Colab 使用方法。\n",
        "- Jupyter Notebook: https://jupyter.org/.\n",
        "- Google Colab: https://colab.research.google.com/notebooks/welcome.ipynb to learn some Colab usage.\n",
        "- This is a Jupyiter notebook presentation. Jupyiter notebook是用來編寫python程式碼的*（但現在已經支持其他語言）。 Jupyiter有很多項優點，其中一項就是可以在內部寫Markdown 語法，不需要在另外用一份文檔說明程式碼或是寫很多的註解來說明程式碼。\n",
        "\n",
        "- [Linear algebra with Numpy ](https://colab.research.google.com/github/drvinceknight/Python-Mathematics-Handbook/blob/master/02-Linear-algebra-with-Numpy.ipynb) is a Python language software package for linear algebra;\n",
        "- [Linear algebra in Machine Learning](https://colab.research.google.com/github/adhiraiyan/DeepLearningWithTF2.0/blob/master/notebooks/02.00-Linear-Algebra.ipynb)\n",
        "中文教學: [Link1](https://medium.com/pyradise/%E4%BD%BF%E7%94%A8-python-%E4%BE%86%E8%AA%8D%E8%AD%98%E7%9F%A9%E9%99%A3-915376207187)\n"
      ]
    },
    {
      "cell_type": "markdown",
      "metadata": {
        "id": "n6dWZj5-jWl_"
      },
      "source": [
        "## **習題說明:**\n",
        "1. 將本習題範本 copy 到您自己的 google drive 雲端硬碟，建議檔名為： [your-std-id].ipynb\n",
        "1. 請更改第一個 cell 內容中的日期資料，並將學生名字設為你的名字。\n",
        "1. 首先**執行**下面這格程式，請輸入 **std_id = 你的學號**。\n",
        "1. 請保留前面內容順訊，但請根據輸出的隨機順序, **調換更動本ipynb檔案的內容順序。**\n",
        "1. 記得將您的 ipynb 檔案按滑鼠右鍵，點選「共用」，權限改成:**「分享給知道連結的人」**,老師才能測試您的作業。\n",
        "1. 利用 Runtime -> Run all (ctl-F9)，一次執行完畢後利用 File -> Print(ctl-P)產生 PDF檔後更名為 [your-id].PDF (e.g. s01234567.pdf)\n",
        "1. **交作業時請繳交PDF檔**.\n"
      ]
    },
    {
      "cell_type": "code",
      "metadata": {
        "id": "UsbMK_Zy6xlP",
        "colab": {
          "base_uri": "https://localhost:8080/"
        },
        "outputId": "a7805a28-d079-4f37-ca3a-5ecc19227f87"
      },
      "source": [
        "# Set random seed to decide your output orderings\n",
        "import numpy as np\n",
        "import random\n",
        "std_id = 1234567\n",
        "np.random.seed(std_id)\n",
        "print ( np.random.permutation(list('ABCDE')) )"
      ],
      "execution_count": null,
      "outputs": [
        {
          "output_type": "stream",
          "name": "stdout",
          "text": [
            "['B' 'C' 'A' 'E' 'D']\n"
          ]
        }
      ]
    },
    {
      "cell_type": "code",
      "metadata": {
        "id": "lWqszArxLoz-",
        "colab": {
          "base_uri": "https://localhost:8080/"
        },
        "outputId": "73171430-b748-4950-985c-70b31544c18d"
      },
      "source": [
        "# Sect B -- Expressions\n",
        "\n",
        "hourly_salary = 125                     # 設定時薪\n",
        "annual_salary = hourly_salary * 8 * 300         # 計算年薪\n",
        "monthly_fee = 9000                     # 設定每月花費\n",
        "annual_fee = monthly_fee * 12               # 計算每年花費\n",
        "annual_savings = annual_salary - annual_fee       # 計算每年儲存金額\n",
        "print(annual_savings)                    # 列出每年儲存金額"
      ],
      "execution_count": null,
      "outputs": [
        {
          "output_type": "stream",
          "name": "stdout",
          "text": [
            "192000\n"
          ]
        }
      ]
    },
    {
      "cell_type": "code",
      "metadata": {
        "id": "d3g63IH4FRdH",
        "colab": {
          "base_uri": "https://localhost:8080/"
        },
        "outputId": "a0ef3a8b-daad-4bcb-8b2a-47e249160876"
      },
      "source": [
        "# Sect C -- 資料型態\n",
        "\n",
        "x = 10\n",
        "print(x)\n",
        "print(type(x))      # 加法前列出x資料型態\n",
        "x = x + 5.5\n",
        "print(x)\n",
        "print(type(x))      # 加法後列出x資料型態"
      ],
      "execution_count": null,
      "outputs": [
        {
          "output_type": "stream",
          "name": "stdout",
          "text": [
            "10\n",
            "<class 'int'>\n",
            "15.5\n",
            "<class 'float'>\n"
          ]
        }
      ]
    },
    {
      "cell_type": "code",
      "metadata": {
        "id": "dN4H0NAZ-4Qy",
        "colab": {
          "base_uri": "https://localhost:8080/"
        },
        "outputId": "1e27f99f-f322-4e83-8e7b-d9cdae6200cc"
      },
      "source": [
        "# Sect A -- Python Basics\n",
        "\n",
        "print(\"Hello! Python\")   # 列印字串"
      ],
      "execution_count": null,
      "outputs": [
        {
          "output_type": "stream",
          "name": "stdout",
          "text": [
            "Hello! Python\n"
          ]
        }
      ]
    },
    {
      "cell_type": "code",
      "metadata": {
        "id": "g_j8oRJaFRnF",
        "colab": {
          "base_uri": "https://localhost:8080/"
        },
        "outputId": "04c2688e-6b9c-4f89-fd6c-78e8cd2bce7e"
      },
      "source": [
        "# Sect E -- List\n",
        "\n",
        "james = [23, 19, 22, 31, 18]        # 定義james的5場比賽得分\n",
        "games = len(james)                  # 獲得場次數據\n",
        "print(\"經過 %d 比賽最高得分 = \" % games, max(james))\n",
        "print(\"經過 %d 比賽最低得分 = \" % games, min(james))\n",
        "print(\"經過 %d 比賽得分總計 = \" % games, sum(james))"
      ],
      "execution_count": null,
      "outputs": [
        {
          "output_type": "stream",
          "name": "stdout",
          "text": [
            "經過 5 比賽最高得分 =  31\n",
            "經過 5 比賽最低得分 =  18\n",
            "經過 5 比賽得分總計 =  113\n"
          ]
        }
      ]
    },
    {
      "cell_type": "code",
      "metadata": {
        "id": "mbK9qzy5FZ6T",
        "colab": {
          "base_uri": "https://localhost:8080/"
        },
        "outputId": "30af276d-7c04-4ae2-89ca-5a83fc3570b5"
      },
      "source": [
        "# Sect D -- formatted print\n",
        "\n",
        "r = 5\n",
        "PI = 3.14159\n",
        "area = PI * r ** 2\n",
        "print(\"/半徑{0:3d}圓面積是{1:10.2f}/\".format(r,area))\n",
        "print(\"/半徑{0:>3d}圓面積是{1:>10.2f}/\".format(r,area))\n",
        "print(\"/半徑{0:<3d}圓面積是{1:<10.2f}/\".format(r,area))\n",
        "print(\"/半徑{0:^3d}圓面積是{1:^10.2f}/\".format(r,area))"
      ],
      "execution_count": null,
      "outputs": [
        {
          "output_type": "stream",
          "name": "stdout",
          "text": [
            "/半徑  5圓面積是     78.54/\n",
            "/半徑  5圓面積是     78.54/\n",
            "/半徑5  圓面積是78.54     /\n",
            "/半徑 5 圓面積是  78.54   /\n"
          ]
        }
      ]
    },
    {
      "cell_type": "code",
      "metadata": {
        "id": "QtFDnIdrlC4J"
      },
      "source": [],
      "execution_count": null,
      "outputs": []
    },
    {
      "cell_type": "code",
      "metadata": {
        "id": "fLKMgJsiia-S"
      },
      "source": [
        "import numpy as np"
      ],
      "execution_count": null,
      "outputs": []
    },
    {
      "cell_type": "markdown",
      "metadata": {
        "id": "l6X7Wgacia-X"
      },
      "source": [
        "Now we can define $A$:"
      ]
    },
    {
      "cell_type": "code",
      "metadata": {
        "id": "-3xbmGvVia-p"
      },
      "source": [
        "A = np.matrix([[5, 6, 2],\n",
        "               [4, 7, 19],\n",
        "               [0, 3, 12]])"
      ],
      "execution_count": null,
      "outputs": []
    },
    {
      "cell_type": "code",
      "metadata": {
        "id": "iEcbNMePia-0",
        "colab": {
          "base_uri": "https://localhost:8080/"
        },
        "outputId": "e9eeaba9-bdce-4831-e4d0-2524c2460182"
      },
      "source": [
        "A"
      ],
      "execution_count": null,
      "outputs": [
        {
          "output_type": "execute_result",
          "data": {
            "text/plain": [
              "matrix([[ 5,  6,  2],\n",
              "        [ 4,  7, 19],\n",
              "        [ 0,  3, 12]])"
            ]
          },
          "metadata": {},
          "execution_count": 10
        }
      ]
    },
    {
      "cell_type": "code",
      "metadata": {
        "id": "9ceGZ16Cia-6"
      },
      "source": [
        "B = np.matrix([[14, -2, 12],\n",
        "               [4, 4, 5],\n",
        "               [5, 5, 1]])"
      ],
      "execution_count": null,
      "outputs": []
    },
    {
      "cell_type": "code",
      "metadata": {
        "id": "a_74gjCIia-9",
        "colab": {
          "base_uri": "https://localhost:8080/"
        },
        "outputId": "cc104a65-fa77-446b-fb0a-35e79ece0538"
      },
      "source": [
        "B"
      ],
      "execution_count": null,
      "outputs": [
        {
          "output_type": "execute_result",
          "data": {
            "text/plain": [
              "matrix([[14, -2, 12],\n",
              "        [ 4,  4,  5],\n",
              "        [ 5,  5,  1]])"
            ]
          },
          "metadata": {},
          "execution_count": 12
        }
      ]
    },
    {
      "cell_type": "markdown",
      "metadata": {
        "id": "Fkxd88Kgia_A"
      },
      "source": [
        "We can obtain the following straightforwardly:\n",
        "\n",
        "- $5A$ (or any other scalar multiple of $A$);\n",
        "- $A ^ 3$ (or any other exponent of $A$);\n",
        "- $A + B$;\n",
        "- $A - B$;\n",
        "- $AB$"
      ]
    },
    {
      "cell_type": "code",
      "metadata": {
        "id": "qroolWEbia_B",
        "colab": {
          "base_uri": "https://localhost:8080/"
        },
        "outputId": "7f0062ba-6abb-4915-c187-38f523ead37c"
      },
      "source": [
        "5 * A"
      ],
      "execution_count": null,
      "outputs": [
        {
          "output_type": "execute_result",
          "data": {
            "text/plain": [
              "matrix([[25, 30, 10],\n",
              "        [20, 35, 95],\n",
              "        [ 0, 15, 60]])"
            ]
          },
          "metadata": {},
          "execution_count": 13
        }
      ]
    },
    {
      "cell_type": "code",
      "metadata": {
        "id": "Pyf3C3qAia_E",
        "colab": {
          "base_uri": "https://localhost:8080/"
        },
        "outputId": "bc914056-b31a-4b62-814d-901470f8f59f"
      },
      "source": [
        "A ** 3"
      ],
      "execution_count": null,
      "outputs": [
        {
          "output_type": "execute_result",
          "data": {
            "text/plain": [
              "matrix([[ 557, 1284, 3356],\n",
              "        [ 760, 2305, 6994],\n",
              "        [ 288, 1074, 3519]])"
            ]
          },
          "metadata": {},
          "execution_count": 14
        }
      ]
    },
    {
      "cell_type": "code",
      "metadata": {
        "id": "JJckcabPia_H",
        "colab": {
          "base_uri": "https://localhost:8080/"
        },
        "outputId": "95ab0bcc-b30b-4be6-d36d-2916196dd6b0"
      },
      "source": [
        "A + B"
      ],
      "execution_count": null,
      "outputs": [
        {
          "output_type": "execute_result",
          "data": {
            "text/plain": [
              "matrix([[19,  4, 14],\n",
              "        [ 8, 11, 24],\n",
              "        [ 5,  8, 13]])"
            ]
          },
          "metadata": {},
          "execution_count": 15
        }
      ]
    },
    {
      "cell_type": "code",
      "metadata": {
        "id": "xvYuQwJdia_J",
        "colab": {
          "base_uri": "https://localhost:8080/"
        },
        "outputId": "d6cc5e68-7d9d-4fd2-dd70-3476abed754f"
      },
      "source": [
        "A - B"
      ],
      "execution_count": null,
      "outputs": [
        {
          "output_type": "execute_result",
          "data": {
            "text/plain": [
              "matrix([[ -9,   8, -10],\n",
              "        [  0,   3,  14],\n",
              "        [ -5,  -2,  11]])"
            ]
          },
          "metadata": {},
          "execution_count": 16
        }
      ]
    },
    {
      "cell_type": "code",
      "metadata": {
        "id": "r4KktkXgia_M",
        "colab": {
          "base_uri": "https://localhost:8080/"
        },
        "outputId": "fd0187c9-9c30-48ec-db89-4ef529457972"
      },
      "source": [
        "A * B"
      ],
      "execution_count": null,
      "outputs": [
        {
          "output_type": "execute_result",
          "data": {
            "text/plain": [
              "matrix([[104,  24,  92],\n",
              "        [179, 115, 102],\n",
              "        [ 72,  72,  27]])"
            ]
          },
          "metadata": {},
          "execution_count": 17
        }
      ]
    },
    {
      "cell_type": "markdown",
      "metadata": {
        "id": "N3gr2F-8ia_Q"
      },
      "source": [
        "---\n",
        "\n",
        "**EXERCISE** Compute $A ^ 2 - 2 A + 3$ with:\n",
        "\n",
        "$$A =\n",
        "\\begin{pmatrix}\n",
        "1 & -1\\\\\n",
        "2 & 1\n",
        "\\end{pmatrix}\n",
        "$$\n",
        "\n",
        "---\n",
        "\n",
        "## Solving Matrix equations\n",
        "\n",
        "We can use Numpy to (efficiently) solve large systems of equations of the form:\n",
        "\n",
        "$$Ax=b$$\n",
        "\n",
        "Let us illustrate that with:\n",
        "\n",
        "$$\n",
        "A = \\begin{pmatrix}\n",
        "5 & 6 & 2\\\\\n",
        "4 & 7 & 19\\\\\n",
        "0 & 3 & 12\n",
        "\\end{pmatrix}\n",
        "$$\n",
        "\n",
        "$$\n",
        "b = \\begin{pmatrix}\n",
        "-1\\\\\n",
        "2\\\\\n",
        "1\n",
        "\\end{pmatrix}\n",
        "$$"
      ]
    },
    {
      "cell_type": "code",
      "metadata": {
        "id": "_REPLLqlia_R"
      },
      "source": [
        "A = np.matrix([[5, 6, 2],\n",
        "               [4, 7, 19],\n",
        "               [0, 3, 12]])\n",
        "b = np.matrix([[-1], [2], [1]])"
      ],
      "execution_count": null,
      "outputs": []
    },
    {
      "cell_type": "markdown",
      "metadata": {
        "id": "1c6MBe7Lia_V"
      },
      "source": [
        "We use the `linalg.solve` command:"
      ]
    },
    {
      "cell_type": "code",
      "metadata": {
        "id": "2pB31c4Nia_W",
        "colab": {
          "base_uri": "https://localhost:8080/"
        },
        "outputId": "19e3ea34-3ac4-4ed4-fac5-cd16f1e1695f"
      },
      "source": [
        "x = np.linalg.solve(A, b)\n",
        "x"
      ],
      "execution_count": null,
      "outputs": [
        {
          "output_type": "execute_result",
          "data": {
            "text/plain": [
              "matrix([[ 0.45736434],\n",
              "        [-0.62790698],\n",
              "        [ 0.24031008]])"
            ]
          },
          "metadata": {},
          "execution_count": 19
        }
      ]
    },
    {
      "cell_type": "markdown",
      "metadata": {
        "id": "1TkuObnvia_Y"
      },
      "source": [
        "We can verify our result:"
      ]
    },
    {
      "cell_type": "code",
      "metadata": {
        "id": "e6P-2fR0ia_Y",
        "colab": {
          "base_uri": "https://localhost:8080/"
        },
        "outputId": "8704b63a-dd80-426e-83c2-d5a07388c0af"
      },
      "source": [
        "A * x"
      ],
      "execution_count": null,
      "outputs": [
        {
          "output_type": "execute_result",
          "data": {
            "text/plain": [
              "matrix([[-1.],\n",
              "        [ 2.],\n",
              "        [ 1.]])"
            ]
          },
          "metadata": {},
          "execution_count": 20
        }
      ]
    },
    {
      "cell_type": "markdown",
      "metadata": {
        "id": "15adc7YgpCHU"
      },
      "source": [
        "## THE END\n",
        "Here is the end of the ipython notebook code. Please add whatever that you feel comfortable."
      ]
    }
  ]
}